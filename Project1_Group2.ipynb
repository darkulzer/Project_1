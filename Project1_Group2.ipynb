{
 "cells": [
  {
   "cell_type": "code",
   "execution_count": 7,
   "metadata": {},
   "outputs": [],
   "source": [
    "# Dependencies\n",
    "import pandas as pd\n",
    "import matplotlib.pyplot as plt\n",
    "import scipy.stats as sts\n",
    "import numpy as np\n",
    "import time\n",
    "from us import states\n",
    "import gmaps\n",
    "from scipy.stats import linregress\n",
    "import random \n",
    "\n",
    "\n",
    "gmaps API Keys\n",
    "from config import (census_key, gkey)\n",
    "\n",
    "Configure gmaps\n",
    "gmaps.configure(api_key=gkey)"
   ]
  },
  {
   "cell_type": "code",
   "execution_count": 8,
   "metadata": {},
   "outputs": [],
   "source": [
    "#testing \n",
    "#!pwd"
   ]
  },
  {
   "cell_type": "code",
   "execution_count": 10,
   "metadata": {},
   "outputs": [
    {
     "data": {
      "text/html": [
       "<div>\n",
       "<style scoped>\n",
       "    .dataframe tbody tr th:only-of-type {\n",
       "        vertical-align: middle;\n",
       "    }\n",
       "\n",
       "    .dataframe tbody tr th {\n",
       "        vertical-align: top;\n",
       "    }\n",
       "\n",
       "    .dataframe thead th {\n",
       "        text-align: right;\n",
       "    }\n",
       "</style>\n",
       "<table border=\"1\" class=\"dataframe\">\n",
       "  <thead>\n",
       "    <tr style=\"text-align: right;\">\n",
       "      <th></th>\n",
       "      <th>YearStart</th>\n",
       "      <th>YearEnd</th>\n",
       "      <th>LocationAbbr</th>\n",
       "      <th>LocationDesc</th>\n",
       "      <th>Class</th>\n",
       "      <th>Topic</th>\n",
       "      <th>Question</th>\n",
       "      <th>Data_Value_Unit</th>\n",
       "      <th>Data_Value</th>\n",
       "      <th>Data_Value_Alt</th>\n",
       "      <th>...</th>\n",
       "      <th>Gender</th>\n",
       "      <th>Income</th>\n",
       "      <th>Race/Ethnicity</th>\n",
       "      <th>GeoLocation</th>\n",
       "      <th>ClassID</th>\n",
       "      <th>TopicID</th>\n",
       "      <th>QuestionID</th>\n",
       "      <th>LocationID</th>\n",
       "      <th>StratificationCategory1</th>\n",
       "      <th>Stratification1</th>\n",
       "    </tr>\n",
       "  </thead>\n",
       "  <tbody>\n",
       "    <tr>\n",
       "      <th>0</th>\n",
       "      <td>2012</td>\n",
       "      <td>2012</td>\n",
       "      <td>WY</td>\n",
       "      <td>Wyoming</td>\n",
       "      <td>Obesity / Weight Status</td>\n",
       "      <td>Obesity / Weight Status</td>\n",
       "      <td>Percent of adults aged 18 years and older who ...</td>\n",
       "      <td>NaN</td>\n",
       "      <td>48.5</td>\n",
       "      <td>48.5</td>\n",
       "      <td>...</td>\n",
       "      <td>NaN</td>\n",
       "      <td>NaN</td>\n",
       "      <td>American Indian/Alaska Native</td>\n",
       "      <td>43.235541343, -108.109830353</td>\n",
       "      <td>OWS</td>\n",
       "      <td>OWS1</td>\n",
       "      <td>Q037</td>\n",
       "      <td>56</td>\n",
       "      <td>Race/Ethnicity</td>\n",
       "      <td>American Indian/Alaska Native</td>\n",
       "    </tr>\n",
       "    <tr>\n",
       "      <th>1</th>\n",
       "      <td>2012</td>\n",
       "      <td>2012</td>\n",
       "      <td>DC</td>\n",
       "      <td>District of Columbia</td>\n",
       "      <td>Obesity / Weight Status</td>\n",
       "      <td>Obesity / Weight Status</td>\n",
       "      <td>Percent of adults aged 18 years and older who ...</td>\n",
       "      <td>NaN</td>\n",
       "      <td>31.6</td>\n",
       "      <td>31.6</td>\n",
       "      <td>...</td>\n",
       "      <td>NaN</td>\n",
       "      <td>NaN</td>\n",
       "      <td>NaN</td>\n",
       "      <td>38.890371385, -77.031961127</td>\n",
       "      <td>OWS</td>\n",
       "      <td>OWS1</td>\n",
       "      <td>Q036</td>\n",
       "      <td>11</td>\n",
       "      <td>Education</td>\n",
       "      <td>Less than high school</td>\n",
       "    </tr>\n",
       "    <tr>\n",
       "      <th>2</th>\n",
       "      <td>2011</td>\n",
       "      <td>2011</td>\n",
       "      <td>AL</td>\n",
       "      <td>Alabama</td>\n",
       "      <td>Obesity / Weight Status</td>\n",
       "      <td>Obesity / Weight Status</td>\n",
       "      <td>Percent of adults aged 18 years and older who ...</td>\n",
       "      <td>NaN</td>\n",
       "      <td>35.2</td>\n",
       "      <td>35.2</td>\n",
       "      <td>...</td>\n",
       "      <td>NaN</td>\n",
       "      <td>NaN</td>\n",
       "      <td>NaN</td>\n",
       "      <td>32.840571122, -86.631860762</td>\n",
       "      <td>OWS</td>\n",
       "      <td>OWS1</td>\n",
       "      <td>Q036</td>\n",
       "      <td>1</td>\n",
       "      <td>Age (years)</td>\n",
       "      <td>25 - 34</td>\n",
       "    </tr>\n",
       "    <tr>\n",
       "      <th>3</th>\n",
       "      <td>2015</td>\n",
       "      <td>2015</td>\n",
       "      <td>RI</td>\n",
       "      <td>Rhode Island</td>\n",
       "      <td>Obesity / Weight Status</td>\n",
       "      <td>Obesity / Weight Status</td>\n",
       "      <td>Percent of adults aged 18 years and older who ...</td>\n",
       "      <td>NaN</td>\n",
       "      <td>40.2</td>\n",
       "      <td>40.2</td>\n",
       "      <td>...</td>\n",
       "      <td>NaN</td>\n",
       "      <td>NaN</td>\n",
       "      <td>Hispanic</td>\n",
       "      <td>41.708280193, -71.522470314</td>\n",
       "      <td>OWS</td>\n",
       "      <td>OWS1</td>\n",
       "      <td>Q037</td>\n",
       "      <td>44</td>\n",
       "      <td>Race/Ethnicity</td>\n",
       "      <td>Hispanic</td>\n",
       "    </tr>\n",
       "    <tr>\n",
       "      <th>4</th>\n",
       "      <td>2012</td>\n",
       "      <td>2012</td>\n",
       "      <td>WY</td>\n",
       "      <td>Wyoming</td>\n",
       "      <td>Physical Activity</td>\n",
       "      <td>Physical Activity - Behavior</td>\n",
       "      <td>Percent of adults who engage in no leisure-tim...</td>\n",
       "      <td>NaN</td>\n",
       "      <td>32.3</td>\n",
       "      <td>32.3</td>\n",
       "      <td>...</td>\n",
       "      <td>NaN</td>\n",
       "      <td>Less than $15,000</td>\n",
       "      <td>NaN</td>\n",
       "      <td>43.235541343, -108.109830353</td>\n",
       "      <td>PA</td>\n",
       "      <td>PA1</td>\n",
       "      <td>Q047</td>\n",
       "      <td>56</td>\n",
       "      <td>Income</td>\n",
       "      <td>Less than $15,000</td>\n",
       "    </tr>\n",
       "  </tbody>\n",
       "</table>\n",
       "<p>5 rows × 26 columns</p>\n",
       "</div>"
      ],
      "text/plain": [
       "   YearStart  YearEnd LocationAbbr          LocationDesc  \\\n",
       "0       2012     2012           WY               Wyoming   \n",
       "1       2012     2012           DC  District of Columbia   \n",
       "2       2011     2011           AL               Alabama   \n",
       "3       2015     2015           RI          Rhode Island   \n",
       "4       2012     2012           WY               Wyoming   \n",
       "\n",
       "                     Class                         Topic  \\\n",
       "0  Obesity / Weight Status       Obesity / Weight Status   \n",
       "1  Obesity / Weight Status       Obesity / Weight Status   \n",
       "2  Obesity / Weight Status       Obesity / Weight Status   \n",
       "3  Obesity / Weight Status       Obesity / Weight Status   \n",
       "4        Physical Activity  Physical Activity - Behavior   \n",
       "\n",
       "                                            Question  Data_Value_Unit  \\\n",
       "0  Percent of adults aged 18 years and older who ...              NaN   \n",
       "1  Percent of adults aged 18 years and older who ...              NaN   \n",
       "2  Percent of adults aged 18 years and older who ...              NaN   \n",
       "3  Percent of adults aged 18 years and older who ...              NaN   \n",
       "4  Percent of adults who engage in no leisure-tim...              NaN   \n",
       "\n",
       "   Data_Value  Data_Value_Alt  ...  Gender             Income  \\\n",
       "0        48.5            48.5  ...     NaN                NaN   \n",
       "1        31.6            31.6  ...     NaN                NaN   \n",
       "2        35.2            35.2  ...     NaN                NaN   \n",
       "3        40.2            40.2  ...     NaN                NaN   \n",
       "4        32.3            32.3  ...     NaN  Less than $15,000   \n",
       "\n",
       "                  Race/Ethnicity                   GeoLocation ClassID  \\\n",
       "0  American Indian/Alaska Native  43.235541343, -108.109830353     OWS   \n",
       "1                            NaN   38.890371385, -77.031961127     OWS   \n",
       "2                            NaN   32.840571122, -86.631860762     OWS   \n",
       "3                       Hispanic   41.708280193, -71.522470314     OWS   \n",
       "4                            NaN  43.235541343, -108.109830353      PA   \n",
       "\n",
       "  TopicID QuestionID LocationID StratificationCategory1  \\\n",
       "0    OWS1       Q037         56          Race/Ethnicity   \n",
       "1    OWS1       Q036         11               Education   \n",
       "2    OWS1       Q036          1             Age (years)   \n",
       "3    OWS1       Q037         44          Race/Ethnicity   \n",
       "4     PA1       Q047         56                  Income   \n",
       "\n",
       "                 Stratification1  \n",
       "0  American Indian/Alaska Native  \n",
       "1          Less than high school  \n",
       "2                        25 - 34  \n",
       "3                       Hispanic  \n",
       "4              Less than $15,000  \n",
       "\n",
       "[5 rows x 26 columns]"
      ]
     },
     "execution_count": 10,
     "metadata": {},
     "output_type": "execute_result"
    }
   ],
   "source": [
    "#load data\n",
    "csv_path = \"Resources/NutritionPhysicalActivityandObesity.csv\"\n",
    "nutrition_data = pd.read_csv(csv_path)\n",
    "age_groups = nutrition_data.groupby('Age(years)')\n",
    "year_groups = nutrition_data.groupby('YearEnd')\n",
    "\n",
    "# Create a dataframe counting the number of data points for each age \n",
    "age_groups_count = pd.DataFrame(age_groups['Age(years)'].count())\n",
    "year_groups_count = pd.DataFrame(year_groups['YearEnd'].count())\n",
    "\n",
    "# View the groupby dataframe \n",
    "age_groups_count\n",
    "nutrition_data.head()"
   ]
  },
  {
   "cell_type": "code",
   "execution_count": 14,
   "metadata": {
    "scrolled": true
   },
   "outputs": [],
   "source": [
    "# drop unesscary columns and fix labels\n",
    "nutrition_data = nutrition_data.drop(columns=['Data_Value_Unit',\n",
    "                                              'StratificationCategory1',\n",
    "                                              'YearStart',\n",
    "                                              'ClassID',\n",
    "                                              'TopicID',\n",
    "                                              'Income',\n",
    "                            \n",
    "                                             ])\n",
    "nutrition_data[['Lat','Long']] = nutrition_data.GeoLocation.str.split(\",\",expand=True,)\n",
    "\n",
    "renamecols_df = nutrition_data.rename(columns={\"LocationAbbr\":\"StateAbbr\",\n",
    "                                                \"LocationDesc\":\"State\",\n",
    "                                                \"Age(years)\":\"Age\",\n",
    "                                                \"YearEnd\":\"Year\"})\n",
    "\n",
    "#renamecols is df before narrowing age demographic"
   ]
  },
  {
   "cell_type": "code",
   "execution_count": 15,
   "metadata": {
    "scrolled": true
   },
   "outputs": [],
   "source": [
    "#trim age column to include only desired age demographic\n",
    "\n",
    "renamecols_df[\"Year\"] = renamecols_df.Year.astype(str)\n",
    "\n",
    "agedem_df = renamecols_df.loc[(renamecols_df[\"Age\"] == \"18 - 24\")\n",
    "                               |(renamecols_df[\"Age\"] == \"25 - 34\")\n",
    "                               |(renamecols_df[\"Age\"] == \"35 - 44\")\n",
    "                               |(renamecols_df[\"Age\"] == \"45 - 54\")\n",
    "                             ,:]\n",
    "#dem_df trims years to include only five years of data 2014-2018\n",
    "dem_df = agedem_df.loc[(agedem_df[\"Year\"] == \"2014\")\n",
    "                               |(agedem_df[\"Year\"] == \"2015\")\n",
    "                               |(agedem_df[\"Year\"] == \"2016\")\n",
    "                               |(agedem_df[\"Year\"] == \"2017\")\n",
    "                               |(agedem_df[\"Year\"] == \"2018\")\n",
    "                              ,:]\n",
    "#define dataframe for obesity rates for gen x and gen y\n",
    "GenX_Data = agedem_df[(agedem_df[\"Age\"] == \"35 - 44\") | \n",
    "                        (agedem_df[\"Age\"] == \"45 - 54\")]\n",
    "GenM_Data = agedem_df[(agedem_df[\"Age\"] == \"18 - 24\") | \n",
    "                        (agedem_df[\"Age\"] == \"25 - 34\")]"
   ]
  },
  {
   "cell_type": "code",
   "execution_count": 16,
   "metadata": {
    "scrolled": true
   },
   "outputs": [
    {
     "data": {
      "text/plain": [
       "0       29.7\n",
       "1       33.2\n",
       "2       37.9\n",
       "3       12.7\n",
       "4       19.9\n",
       "        ... \n",
       "1015    25.4\n",
       "1016    31.7\n",
       "1017    28.0\n",
       "1018    33.7\n",
       "1019    39.3\n",
       "Name: Data_Value, Length: 1020, dtype: float64"
      ]
     },
     "execution_count": 16,
     "metadata": {},
     "output_type": "execute_result"
    }
   ],
   "source": [
    "#narrow dataframe for bargraph that compares obesity rate by age group from 2014-2018\n",
    "obesity_data_df = dem_df.drop(columns=['Data_Value_Alt',\n",
    "                                    'Total',\n",
    "                                    'Education',\n",
    "                                    'Gender',\n",
    "                                    'Race/Ethnicity',\n",
    "                                    'Topic',\n",
    "                                    'Stratification1'\n",
    "                                             ])\n",
    "\n",
    "weight_q_group = obesity_data_df.loc[(dem_df[\"QuestionID\"] == \"Q036\")                         \n",
    "                              ,:]\n",
    "\n",
    "#bin age data to gen x and gen y\n",
    "# Create the bins in which gen x and gen y will be held   \n",
    "bins = [['18 - 24','25 - 34'],['35 - 44','45-54']]\n",
    "\n",
    "# Create the names for the five bins\n",
    "group_names = [\"Gen Y\", \"Gen X\"]\n",
    "\n",
    "b = (pd.DataFrame({'Gen': group_names, 'Age': bins})\n",
    "        .explode('Age')\n",
    "        .reset_index(drop=True))\n",
    "\n",
    "obesity_data_df = weight_q_group.merge(b, on = 'Age', how='left')\n",
    "\n",
    "s = pd.Series(obesity_data_df['Data_Value'])\n",
    "pd.to_numeric(s)\n",
    "#obesity_data_df.head()"
   ]
  },
  {
   "cell_type": "code",
   "execution_count": 17,
   "metadata": {},
   "outputs": [
    {
     "data": {
      "text/html": [
       "<div>\n",
       "<style scoped>\n",
       "    .dataframe tbody tr th:only-of-type {\n",
       "        vertical-align: middle;\n",
       "    }\n",
       "\n",
       "    .dataframe tbody tr th {\n",
       "        vertical-align: top;\n",
       "    }\n",
       "\n",
       "    .dataframe thead th {\n",
       "        text-align: right;\n",
       "    }\n",
       "</style>\n",
       "<table border=\"1\" class=\"dataframe\">\n",
       "  <thead>\n",
       "    <tr style=\"text-align: right;\">\n",
       "      <th></th>\n",
       "      <th></th>\n",
       "      <th>Data_Value</th>\n",
       "    </tr>\n",
       "    <tr>\n",
       "      <th>Year</th>\n",
       "      <th>Age</th>\n",
       "      <th></th>\n",
       "    </tr>\n",
       "  </thead>\n",
       "  <tbody>\n",
       "    <tr>\n",
       "      <th rowspan=\"4\" valign=\"top\">2014</th>\n",
       "      <th>18 - 24</th>\n",
       "      <td>16.307843</td>\n",
       "    </tr>\n",
       "    <tr>\n",
       "      <th>25 - 34</th>\n",
       "      <td>27.978431</td>\n",
       "    </tr>\n",
       "    <tr>\n",
       "      <th>35 - 44</th>\n",
       "      <td>33.125490</td>\n",
       "    </tr>\n",
       "    <tr>\n",
       "      <th>45 - 54</th>\n",
       "      <td>34.017647</td>\n",
       "    </tr>\n",
       "    <tr>\n",
       "      <th rowspan=\"4\" valign=\"top\">2015</th>\n",
       "      <th>18 - 24</th>\n",
       "      <td>17.233333</td>\n",
       "    </tr>\n",
       "    <tr>\n",
       "      <th>25 - 34</th>\n",
       "      <td>27.272549</td>\n",
       "    </tr>\n",
       "    <tr>\n",
       "      <th>35 - 44</th>\n",
       "      <td>32.919608</td>\n",
       "    </tr>\n",
       "    <tr>\n",
       "      <th>45 - 54</th>\n",
       "      <td>34.439216</td>\n",
       "    </tr>\n",
       "    <tr>\n",
       "      <th rowspan=\"4\" valign=\"top\">2016</th>\n",
       "      <th>18 - 24</th>\n",
       "      <td>17.498039</td>\n",
       "    </tr>\n",
       "    <tr>\n",
       "      <th>25 - 34</th>\n",
       "      <td>27.674510</td>\n",
       "    </tr>\n",
       "    <tr>\n",
       "      <th>35 - 44</th>\n",
       "      <td>33.786275</td>\n",
       "    </tr>\n",
       "    <tr>\n",
       "      <th>45 - 54</th>\n",
       "      <td>35.415686</td>\n",
       "    </tr>\n",
       "    <tr>\n",
       "      <th rowspan=\"4\" valign=\"top\">2017</th>\n",
       "      <th>18 - 24</th>\n",
       "      <td>17.525490</td>\n",
       "    </tr>\n",
       "    <tr>\n",
       "      <th>25 - 34</th>\n",
       "      <td>29.284314</td>\n",
       "    </tr>\n",
       "    <tr>\n",
       "      <th>35 - 44</th>\n",
       "      <td>33.819608</td>\n",
       "    </tr>\n",
       "    <tr>\n",
       "      <th>45 - 54</th>\n",
       "      <td>36.500000</td>\n",
       "    </tr>\n",
       "    <tr>\n",
       "      <th rowspan=\"4\" valign=\"top\">2018</th>\n",
       "      <th>18 - 24</th>\n",
       "      <td>18.496078</td>\n",
       "    </tr>\n",
       "    <tr>\n",
       "      <th>25 - 34</th>\n",
       "      <td>30.147059</td>\n",
       "    </tr>\n",
       "    <tr>\n",
       "      <th>35 - 44</th>\n",
       "      <td>35.090196</td>\n",
       "    </tr>\n",
       "    <tr>\n",
       "      <th>45 - 54</th>\n",
       "      <td>37.770588</td>\n",
       "    </tr>\n",
       "  </tbody>\n",
       "</table>\n",
       "</div>"
      ],
      "text/plain": [
       "              Data_Value\n",
       "Year Age                \n",
       "2014 18 - 24   16.307843\n",
       "     25 - 34   27.978431\n",
       "     35 - 44   33.125490\n",
       "     45 - 54   34.017647\n",
       "2015 18 - 24   17.233333\n",
       "     25 - 34   27.272549\n",
       "     35 - 44   32.919608\n",
       "     45 - 54   34.439216\n",
       "2016 18 - 24   17.498039\n",
       "     25 - 34   27.674510\n",
       "     35 - 44   33.786275\n",
       "     45 - 54   35.415686\n",
       "2017 18 - 24   17.525490\n",
       "     25 - 34   29.284314\n",
       "     35 - 44   33.819608\n",
       "     45 - 54   36.500000\n",
       "2018 18 - 24   18.496078\n",
       "     25 - 34   30.147059\n",
       "     35 - 44   35.090196\n",
       "     45 - 54   37.770588"
      ]
     },
     "execution_count": 17,
     "metadata": {},
     "output_type": "execute_result"
    }
   ],
   "source": [
    "subjecttest = ['Data_Value']\n",
    "datasettest = obesity_data_df.groupby(['Year','Age'])[subjecttest].mean()\n",
    "datasettest"
   ]
  },
  {
   "cell_type": "code",
   "execution_count": 58,
   "metadata": {},
   "outputs": [
    {
     "data": {
      "image/png": "[encoded data removed]",
      "text/plain": [
       "<Figure size 432x288 with 1 Axes>"
      ]
     },
     "metadata": {
      "needs_background": "light"
     },
     "output_type": "display_data"
    }
   ],
   "source": [
    "hhlabels =['Gen Y', 'Gen X']\n",
    "labels = ['2014', '2015', '2016', '2017', '2018']\n",
    "age1_means = [16.36, 17.46, 17.49, 17.39, 18.59]\n",
    "age2_means = [28.03, 27.38, 27.99, 29.55, 30.35]\n",
    "age3_means = [33.06, 32.92, 33.87, 34.04, 35.08]\n",
    "age4_means = [33.92, 34.53, 35.52, 36.64, 37.70]\n",
    "\n",
    "x = np.arange(len(labels))\n",
    "hx = np.arange(len(hhlabels))  \n",
    "width = 0.25\n",
    "\n",
    "fig, ax = plt.subplots()\n",
    "rects1 = ax.bar(x + 0.00, age1_means, width, label='18 - 24')\n",
    "rects2 = ax.bar(x + 0.20, age2_means, width, label='25 - 34')\n",
    "rects3 = ax.bar(x + 0.40, age3_means, width, label='35 - 44')\n",
    "rects4 = ax.bar(x + 0.60, age4_means, width, label='45 - 54')\n",
    "\n",
    "ax.set_ylabel('Average Reported Obesity Rate')\n",
    "ax.set_title('Average Reported Obesity Rate by Year and Generation')\n",
    "ax.set_xticks(x)\n",
    "ax.set_xticklabels(labels)\n",
    "ax.legend(bbox_to_anchor=(1.1, 1.05))\n",
    "\n",
    "\n",
    "def autolabel(rects):\n",
    "    for rect in rects:\n",
    "        height = rect.get_height()\n",
    "        ax.annotate('{}'.format(height),\n",
    "                    xy=(rect.get_x() + rect.get_width() / 2, height),\n",
    "                    xytext=(0, 3), \n",
    "                    textcoords=\"offset points\",\n",
    "                    ha='center', va='bottom')\n",
    "\n",
    "autolabel(rects1)\n",
    "autolabel(rects2)\n",
    "autolabel(rects3)\n",
    "autolabel(rects4)\n",
    "\n",
    "fig.tight_layout()\n",
    "\n",
    "plt.show()"
   ]
  },
  {
   "cell_type": "code",
   "execution_count": 49,
   "metadata": {
    "scrolled": true
   },
   "outputs": [],
   "source": [
    "#define data frame for bargraph comparing reported obesity rates by year and generation\n",
    "subject = ['Data_Value']\n",
    "dataset = obesity_data_df.groupby(['Year','Gen'])[subject].mean()\n",
    "#dataset"
   ]
  },
  {
   "cell_type": "code",
   "execution_count": 20,
   "metadata": {},
   "outputs": [
    {
     "data": {
      "image/png": "[encoded data removed]",
      "text/plain": [
       "<Figure size 432x288 with 1 Axes>"
      ]
     },
     "metadata": {
      "needs_background": "light"
     },
     "output_type": "display_data"
    }
   ],
   "source": [
    "#Bar graph comparing Gen X and Gen Y obesity rate over time\n",
    "labels = ['2014', '2015', '2016', '2017', '2018']\n",
    "Genx_means = [33.06, 32.92, 33.87, 34.04, 35.07]\n",
    "GenY_means = [22.19, 22.42, 22.74, 23.48, 24.47]\n",
    "#formatting\n",
    "x = np.arange(len(labels))  \n",
    "width = 0.45\n",
    "\n",
    "fig, ax = plt.subplots()\n",
    "rects1 = ax.bar(x - width/2, Genx_means, width, label='Gen X')\n",
    "rects2 = ax.bar(x + width/2, GenY_means, width, label='Gen Y')\n",
    "\n",
    "# labels and markers\n",
    "ax.set_ylabel('Average Reported Obesity Rate')\n",
    "ax.set_title('Average Reported Obesity Rate by Year and Generation')\n",
    "ax.set_xticks(x)\n",
    "ax.set_xticklabels(labels)\n",
    "ax.legend()\n",
    "\n",
    "#for loop for each rect in plt\n",
    "def autolabel(rects):\n",
    "    for rect in rects:\n",
    "        height = rect.get_height()\n",
    "        ax.annotate('{}'.format(height),\n",
    "                    xy=(rect.get_x() + rect.get_width() / 2, height),\n",
    "                    xytext=(0, 3),\n",
    "                    textcoords=\"offset points\",\n",
    "                    ha='center', va='bottom')\n",
    "\n",
    "autolabel(rects1)\n",
    "autolabel(rects2)\n",
    "\n",
    "fig.tight_layout()\n",
    "\n",
    "plt.show()"
   ]
  },
  {
   "cell_type": "code",
   "execution_count": null,
   "metadata": {},
   "outputs": [],
   "source": [
    "\n"
   ]
  },
  {
   "cell_type": "code",
   "execution_count": 21,
   "metadata": {},
   "outputs": [],
   "source": [
    "GenM_Weight_df = GenM_Data[(GenM_Data[\"Question\"] == \"Percent of adults aged 18 years and older who have obesity\")]\n",
    "GenX_Weight_df = GenX_Data[(GenX_Data[\"Question\"] == \"Percent of adults aged 18 years and older who have obesity\")]"
   ]
  },
  {
   "cell_type": "code",
   "execution_count": 22,
   "metadata": {},
   "outputs": [],
   "source": [
    "GenX_activity_df = GenX_Data[(GenX_Data[\"Question\"] == \"Percent of adults who engage in no leisure-time physical activity\")]\n",
    "GenM_activity_df = GenM_Data[(GenM_Data[\"Question\"] == \"Percent of adults who engage in no leisure-time physical activity\")]"
   ]
  },
  {
   "cell_type": "code",
   "execution_count": 23,
   "metadata": {},
   "outputs": [],
   "source": [
    "GenM_nutrition_df = GenM_Data[(GenM_Data[\"Question\"] == \"Percent of adults who report consuming vegetables less than one time daily\")|(GenM_Data[\"Question\"] == \"Percent of adults who report consuming fruit less than one time daily\")]\n",
    "GenX_nutrition_df = GenX_Data[(GenX_Data[\"Question\"] == \"Percent of adults who report consuming vegetables less than one time daily\")|(GenX_Data[\"Question\"] == \"Percent of adults who report consuming fruit less than one time daily\")]"
   ]
  },
  {
   "cell_type": "code",
   "execution_count": 28,
   "metadata": {},
   "outputs": [],
   "source": [
    "#GenX_Weight_df.dropna(subset=['Data_Value'])\n",
    "GenX_sample_list = GenX_Weight_df[\"Data_Value\"].tolist()\n",
    "GenX_WeightSample = random.sample(GenX_sample_list, (204))\n",
    "\n",
    "    \n",
    "#GenM_Weight_df.dropna(subset=['Data_Value'])\n",
    "GenM_sample_list = GenM_Weight_df[\"Data_Value\"].tolist()\n",
    "GenM_WeightSample = random.sample(GenM_sample_list, (204))"
   ]
  },
  {
   "cell_type": "code",
   "execution_count": 30,
   "metadata": {
    "scrolled": true
   },
   "outputs": [
    {
     "name": "stdout",
     "output_type": "stream",
     "text": [
      "The correlation between both factors is 0.0\n"
     ]
    },
    {
     "data": {
      "image/png": "[encoded data removed]",
      "text/plain": [
       "<Figure size 432x288 with 1 Axes>"
      ]
     },
     "metadata": {
      "needs_background": "light"
     },
     "output_type": "display_data"
    }
   ],
   "source": [
    "# The next example will compute the Pearson correlation coefficient between \"GenX_Weight\" and \"GenX_Activity\"\n",
    "GenX_Weight = GenX_Weight_df.iloc[:,7]\n",
    "GenX_Activity = GenX_activity_df.iloc[:,7]\n",
    "correlation = sts.pearsonr(GenX_Weight,GenX_Activity)\n",
    "\n",
    "# Compare the calcualted Pearson's r to the plots\n",
    "plt.scatter(GenX_Weight,GenX_Activity)\n",
    "plt.xlabel('Gen X w/obesity')\n",
    "plt.ylabel('Gen X w/no physical activity')\n",
    "print(f\"The correlation between both factors is {round(correlation[0],2)}\")\n",
    "plt.show()"
   ]
  },
  {
   "cell_type": "code",
   "execution_count": 31,
   "metadata": {},
   "outputs": [
    {
     "name": "stdout",
     "output_type": "stream",
     "text": [
      "The correlation between both factors is -0.07\n"
     ]
    },
    {
     "data": {
      "image/png": "[encoded data removed]",
      "text/plain": [
       "<Figure size 432x288 with 1 Axes>"
      ]
     },
     "metadata": {
      "needs_background": "light"
     },
     "output_type": "display_data"
    }
   ],
   "source": [
    "# The next example will compute the Pearson correlation coefficient between \"Income per Capita\" and \"Average Alcohol Consumed\"\n",
    "GenX_Weightsample = GenX_WeightSample\n",
    "GenX_Nutrition = GenX_nutrition_df.iloc[:,7]\n",
    "correlation = sts.pearsonr(GenX_Weightsample,GenX_Nutrition)\n",
    "\n",
    "# Compare the calcualted Pearson's r to the plots\n",
    "plt.scatter(GenX_WeightSample,GenX_Nutrition)\n",
    "plt.xlabel('Gen X w/obesity')\n",
    "plt.ylabel('Gen X w/no vegetable or fruit consumption')\n",
    "print(f\"The correlation between both factors is {round(correlation[0],2)}\")\n",
    "\n",
    "plt.show()"
   ]
  },
  {
   "cell_type": "code",
   "execution_count": 32,
   "metadata": {},
   "outputs": [
    {
     "name": "stdout",
     "output_type": "stream",
     "text": [
      "The correlation between both factors is 0.04\n"
     ]
    },
    {
     "data": {
      "image/png": "[encoded data removed]",
      "text/plain": [
       "<Figure size 432x288 with 1 Axes>"
      ]
     },
     "metadata": {
      "needs_background": "light"
     },
     "output_type": "display_data"
    }
   ],
   "source": [
    "# The next example will compute the Pearson correlation coefficient between \"Income per Capita\" and \"Average Alcohol Consumed\"\n",
    "GenM_WeightSample = GenM_WeightSample\n",
    "GenM_Nutrition = GenM_nutrition_df.iloc[:,7]\n",
    "correlation = sts.pearsonr(GenM_WeightSample,GenM_Nutrition)\n",
    "\n",
    "# Compare the calcualted Pearson's r to the plots\n",
    "plt.scatter(GenM_WeightSample,GenM_Nutrition)\n",
    "plt.xlabel('Gen M w/obesity')\n",
    "plt.ylabel('Gen M w/no vegetable or fruit consumption')\n",
    "print(f\"The correlation between both factors is {round(correlation[0],2)}\")\n",
    "plt.show()"
   ]
  },
  {
   "cell_type": "code",
   "execution_count": 33,
   "metadata": {},
   "outputs": [
    {
     "name": "stdout",
     "output_type": "stream",
     "text": [
      "The correlation between both factors is 0.04\n"
     ]
    },
    {
     "data": {
      "image/png": "[encoded data removed]",
      "text/plain": [
       "<Figure size 432x288 with 1 Axes>"
      ]
     },
     "metadata": {
      "needs_background": "light"
     },
     "output_type": "display_data"
    }
   ],
   "source": [
    "# The next example will compute the Pearson correlation coefficient between \"Income per Capita\" and \"Average Alcohol Consumed\"\n",
    "GenM_Weight = GenM_Weight_df.iloc[:,7]\n",
    "GenM_Activity = GenM_activity_df.iloc[:,7]\n",
    "correlation = sts.pearsonr(GenM_Weight,GenM_Activity)\n",
    "\n",
    "# Compare the calcualted Pearson's r to the plots\n",
    "plt.scatter(GenM_Weight,GenM_Activity)\n",
    "plt.xlabel('Gen M w/obesity')\n",
    "plt.ylabel('Gen M w/no physical activity')\n",
    "print(f\"The correlation between both factors is {round(correlation[0],2)}\")\n",
    "plt.show()"
   ]
  },
  {
   "cell_type": "code",
   "execution_count": 34,
   "metadata": {},
   "outputs": [
    {
     "name": "stdout",
     "output_type": "stream",
     "text": [
      "The r-squared is: 0.0013907261339774725\n"
     ]
    },
    {
     "data": {
      "image/png": "[encoded data removed]",
      "text/plain": [
       "<Figure size 432x288 with 1 Axes>"
      ]
     },
     "metadata": {
      "needs_background": "light"
     },
     "output_type": "display_data"
    }
   ],
   "source": [
    "\n",
    "# Print out the r-squared value along with the plot.\n",
    "x_values = GenM_Weight\n",
    "y_values = GenM_Activity\n",
    "(slope, intercept, rvalue, pvalue, stderr) = linregress(x_values, y_values)\n",
    "regress_values = x_values * slope + intercept\n",
    "line_eq = \"y = \" + str(round(slope,2)) + \"x + \" + str(round(intercept,2))\n",
    "plt.scatter(x_values,y_values)\n",
    "plt.plot(x_values,regress_values,\"r-\")\n",
    "plt.annotate(line_eq,(6,10),fontsize=15,color=\"red\")\n",
    "plt.xlabel('GenM_Weight')\n",
    "plt.ylabel('GenM_Activity')\n",
    "print(f\"The r-squared is: {rvalue**2}\")\n",
    "plt.show()"
   ]
  },
  {
   "cell_type": "code",
   "execution_count": 35,
   "metadata": {},
   "outputs": [
    {
     "data": {
      "text/html": [
       "<div>\n",
       "<style scoped>\n",
       "    .dataframe tbody tr th:only-of-type {\n",
       "        vertical-align: middle;\n",
       "    }\n",
       "\n",
       "    .dataframe tbody tr th {\n",
       "        vertical-align: top;\n",
       "    }\n",
       "\n",
       "    .dataframe thead th {\n",
       "        text-align: right;\n",
       "    }\n",
       "</style>\n",
       "<table border=\"1\" class=\"dataframe\">\n",
       "  <thead>\n",
       "    <tr style=\"text-align: right;\">\n",
       "      <th></th>\n",
       "      <th>Year</th>\n",
       "      <th>StateAbbr</th>\n",
       "      <th>State</th>\n",
       "      <th>Class</th>\n",
       "      <th>Topic</th>\n",
       "      <th>Question</th>\n",
       "      <th>Data_Value</th>\n",
       "      <th>Data_Value_Alt</th>\n",
       "      <th>Low_Confidence_Limit</th>\n",
       "      <th>High_Confidence_Limit</th>\n",
       "      <th>...</th>\n",
       "      <th>Age</th>\n",
       "      <th>Education</th>\n",
       "      <th>Gender</th>\n",
       "      <th>Race/Ethnicity</th>\n",
       "      <th>GeoLocation</th>\n",
       "      <th>QuestionID</th>\n",
       "      <th>LocationID</th>\n",
       "      <th>Stratification1</th>\n",
       "      <th>Lat</th>\n",
       "      <th>Long</th>\n",
       "    </tr>\n",
       "  </thead>\n",
       "  <tbody>\n",
       "    <tr>\n",
       "      <th>12713</th>\n",
       "      <td>2018</td>\n",
       "      <td>WV</td>\n",
       "      <td>West Virginia</td>\n",
       "      <td>Obesity / Weight Status</td>\n",
       "      <td>Obesity / Weight Status</td>\n",
       "      <td>Percent of adults aged 18 years and older who ...</td>\n",
       "      <td>48.2</td>\n",
       "      <td>48.2</td>\n",
       "      <td>44.0</td>\n",
       "      <td>52.3</td>\n",
       "      <td>...</td>\n",
       "      <td>45 - 54</td>\n",
       "      <td>NaN</td>\n",
       "      <td>NaN</td>\n",
       "      <td>NaN</td>\n",
       "      <td>38.66551020200046, -80.71264013499967</td>\n",
       "      <td>Q036</td>\n",
       "      <td>54</td>\n",
       "      <td>45 - 54</td>\n",
       "      <td>38.66551020200046</td>\n",
       "      <td>-80.71264013499967</td>\n",
       "    </tr>\n",
       "    <tr>\n",
       "      <th>3308</th>\n",
       "      <td>2016</td>\n",
       "      <td>MS</td>\n",
       "      <td>Mississippi</td>\n",
       "      <td>Obesity / Weight Status</td>\n",
       "      <td>Obesity / Weight Status</td>\n",
       "      <td>Percent of adults aged 18 years and older who ...</td>\n",
       "      <td>47.5</td>\n",
       "      <td>47.5</td>\n",
       "      <td>42.7</td>\n",
       "      <td>52.5</td>\n",
       "      <td>...</td>\n",
       "      <td>35 - 44</td>\n",
       "      <td>NaN</td>\n",
       "      <td>NaN</td>\n",
       "      <td>NaN</td>\n",
       "      <td>32.745510099, -89.538030825</td>\n",
       "      <td>Q036</td>\n",
       "      <td>28</td>\n",
       "      <td>35 - 44</td>\n",
       "      <td>32.745510099</td>\n",
       "      <td>-89.538030825</td>\n",
       "    </tr>\n",
       "    <tr>\n",
       "      <th>26018</th>\n",
       "      <td>2017</td>\n",
       "      <td>AL</td>\n",
       "      <td>Alabama</td>\n",
       "      <td>Obesity / Weight Status</td>\n",
       "      <td>Obesity / Weight Status</td>\n",
       "      <td>Percent of adults aged 18 years and older who ...</td>\n",
       "      <td>47.1</td>\n",
       "      <td>47.1</td>\n",
       "      <td>43.2</td>\n",
       "      <td>51.1</td>\n",
       "      <td>...</td>\n",
       "      <td>45 - 54</td>\n",
       "      <td>NaN</td>\n",
       "      <td>NaN</td>\n",
       "      <td>NaN</td>\n",
       "      <td>32.840571122, -86.631860762</td>\n",
       "      <td>Q036</td>\n",
       "      <td>1</td>\n",
       "      <td>45 - 54</td>\n",
       "      <td>32.840571122</td>\n",
       "      <td>-86.631860762</td>\n",
       "    </tr>\n",
       "    <tr>\n",
       "      <th>16626</th>\n",
       "      <td>2017</td>\n",
       "      <td>LA</td>\n",
       "      <td>Louisiana</td>\n",
       "      <td>Obesity / Weight Status</td>\n",
       "      <td>Obesity / Weight Status</td>\n",
       "      <td>Percent of adults aged 18 years and older who ...</td>\n",
       "      <td>46.8</td>\n",
       "      <td>46.8</td>\n",
       "      <td>42.2</td>\n",
       "      <td>51.4</td>\n",
       "      <td>...</td>\n",
       "      <td>45 - 54</td>\n",
       "      <td>NaN</td>\n",
       "      <td>NaN</td>\n",
       "      <td>NaN</td>\n",
       "      <td>31.312660644, -92.445680071</td>\n",
       "      <td>Q036</td>\n",
       "      <td>22</td>\n",
       "      <td>45 - 54</td>\n",
       "      <td>31.312660644</td>\n",
       "      <td>-92.445680071</td>\n",
       "    </tr>\n",
       "    <tr>\n",
       "      <th>29607</th>\n",
       "      <td>2017</td>\n",
       "      <td>WV</td>\n",
       "      <td>West Virginia</td>\n",
       "      <td>Obesity / Weight Status</td>\n",
       "      <td>Obesity / Weight Status</td>\n",
       "      <td>Percent of adults aged 18 years and older who ...</td>\n",
       "      <td>46.4</td>\n",
       "      <td>46.4</td>\n",
       "      <td>42.6</td>\n",
       "      <td>50.2</td>\n",
       "      <td>...</td>\n",
       "      <td>45 - 54</td>\n",
       "      <td>NaN</td>\n",
       "      <td>NaN</td>\n",
       "      <td>NaN</td>\n",
       "      <td>38.665510202, -80.712640135</td>\n",
       "      <td>Q036</td>\n",
       "      <td>54</td>\n",
       "      <td>45 - 54</td>\n",
       "      <td>38.665510202</td>\n",
       "      <td>-80.712640135</td>\n",
       "    </tr>\n",
       "    <tr>\n",
       "      <th>2328</th>\n",
       "      <td>2016</td>\n",
       "      <td>WV</td>\n",
       "      <td>West Virginia</td>\n",
       "      <td>Obesity / Weight Status</td>\n",
       "      <td>Obesity / Weight Status</td>\n",
       "      <td>Percent of adults aged 18 years and older who ...</td>\n",
       "      <td>46.3</td>\n",
       "      <td>46.3</td>\n",
       "      <td>43.0</td>\n",
       "      <td>49.6</td>\n",
       "      <td>...</td>\n",
       "      <td>45 - 54</td>\n",
       "      <td>NaN</td>\n",
       "      <td>NaN</td>\n",
       "      <td>NaN</td>\n",
       "      <td>38.665510202, -80.712640135</td>\n",
       "      <td>Q036</td>\n",
       "      <td>54</td>\n",
       "      <td>45 - 54</td>\n",
       "      <td>38.665510202</td>\n",
       "      <td>-80.712640135</td>\n",
       "    </tr>\n",
       "    <tr>\n",
       "      <th>7544</th>\n",
       "      <td>2018</td>\n",
       "      <td>MS</td>\n",
       "      <td>Mississippi</td>\n",
       "      <td>Obesity / Weight Status</td>\n",
       "      <td>Obesity / Weight Status</td>\n",
       "      <td>Percent of adults aged 18 years and older who ...</td>\n",
       "      <td>46.3</td>\n",
       "      <td>46.3</td>\n",
       "      <td>42.4</td>\n",
       "      <td>50.4</td>\n",
       "      <td>...</td>\n",
       "      <td>45 - 54</td>\n",
       "      <td>NaN</td>\n",
       "      <td>NaN</td>\n",
       "      <td>NaN</td>\n",
       "      <td>32.745510099000455, -89.53803082499968</td>\n",
       "      <td>Q036</td>\n",
       "      <td>28</td>\n",
       "      <td>45 - 54</td>\n",
       "      <td>32.745510099000455</td>\n",
       "      <td>-89.53803082499968</td>\n",
       "    </tr>\n",
       "    <tr>\n",
       "      <th>15140</th>\n",
       "      <td>2013</td>\n",
       "      <td>MS</td>\n",
       "      <td>Mississippi</td>\n",
       "      <td>Obesity / Weight Status</td>\n",
       "      <td>Obesity / Weight Status</td>\n",
       "      <td>Percent of adults aged 18 years and older who ...</td>\n",
       "      <td>46.2</td>\n",
       "      <td>46.2</td>\n",
       "      <td>42.4</td>\n",
       "      <td>50.0</td>\n",
       "      <td>...</td>\n",
       "      <td>45 - 54</td>\n",
       "      <td>NaN</td>\n",
       "      <td>NaN</td>\n",
       "      <td>NaN</td>\n",
       "      <td>32.745510099, -89.538030825</td>\n",
       "      <td>Q036</td>\n",
       "      <td>28</td>\n",
       "      <td>45 - 54</td>\n",
       "      <td>32.745510099</td>\n",
       "      <td>-89.538030825</td>\n",
       "    </tr>\n",
       "    <tr>\n",
       "      <th>11386</th>\n",
       "      <td>2018</td>\n",
       "      <td>WV</td>\n",
       "      <td>West Virginia</td>\n",
       "      <td>Obesity / Weight Status</td>\n",
       "      <td>Obesity / Weight Status</td>\n",
       "      <td>Percent of adults aged 18 years and older who ...</td>\n",
       "      <td>46.2</td>\n",
       "      <td>46.2</td>\n",
       "      <td>41.5</td>\n",
       "      <td>51.1</td>\n",
       "      <td>...</td>\n",
       "      <td>35 - 44</td>\n",
       "      <td>NaN</td>\n",
       "      <td>NaN</td>\n",
       "      <td>NaN</td>\n",
       "      <td>38.66551020200046, -80.71264013499967</td>\n",
       "      <td>Q036</td>\n",
       "      <td>54</td>\n",
       "      <td>35 - 44</td>\n",
       "      <td>38.66551020200046</td>\n",
       "      <td>-80.71264013499967</td>\n",
       "    </tr>\n",
       "    <tr>\n",
       "      <th>9117</th>\n",
       "      <td>2018</td>\n",
       "      <td>LA</td>\n",
       "      <td>Louisiana</td>\n",
       "      <td>Obesity / Weight Status</td>\n",
       "      <td>Obesity / Weight Status</td>\n",
       "      <td>Percent of adults aged 18 years and older who ...</td>\n",
       "      <td>45.8</td>\n",
       "      <td>45.8</td>\n",
       "      <td>41.6</td>\n",
       "      <td>50.1</td>\n",
       "      <td>...</td>\n",
       "      <td>45 - 54</td>\n",
       "      <td>NaN</td>\n",
       "      <td>NaN</td>\n",
       "      <td>NaN</td>\n",
       "      <td>31.31266064400046, -92.44568007099969</td>\n",
       "      <td>Q036</td>\n",
       "      <td>22</td>\n",
       "      <td>45 - 54</td>\n",
       "      <td>31.31266064400046</td>\n",
       "      <td>-92.44568007099969</td>\n",
       "    </tr>\n",
       "  </tbody>\n",
       "</table>\n",
       "<p>10 rows × 22 columns</p>\n",
       "</div>"
      ],
      "text/plain": [
       "       Year StateAbbr          State                    Class  \\\n",
       "12713  2018        WV  West Virginia  Obesity / Weight Status   \n",
       "3308   2016        MS    Mississippi  Obesity / Weight Status   \n",
       "26018  2017        AL        Alabama  Obesity / Weight Status   \n",
       "16626  2017        LA      Louisiana  Obesity / Weight Status   \n",
       "29607  2017        WV  West Virginia  Obesity / Weight Status   \n",
       "2328   2016        WV  West Virginia  Obesity / Weight Status   \n",
       "7544   2018        MS    Mississippi  Obesity / Weight Status   \n",
       "15140  2013        MS    Mississippi  Obesity / Weight Status   \n",
       "11386  2018        WV  West Virginia  Obesity / Weight Status   \n",
       "9117   2018        LA      Louisiana  Obesity / Weight Status   \n",
       "\n",
       "                         Topic  \\\n",
       "12713  Obesity / Weight Status   \n",
       "3308   Obesity / Weight Status   \n",
       "26018  Obesity / Weight Status   \n",
       "16626  Obesity / Weight Status   \n",
       "29607  Obesity / Weight Status   \n",
       "2328   Obesity / Weight Status   \n",
       "7544   Obesity / Weight Status   \n",
       "15140  Obesity / Weight Status   \n",
       "11386  Obesity / Weight Status   \n",
       "9117   Obesity / Weight Status   \n",
       "\n",
       "                                                Question  Data_Value  \\\n",
       "12713  Percent of adults aged 18 years and older who ...        48.2   \n",
       "3308   Percent of adults aged 18 years and older who ...        47.5   \n",
       "26018  Percent of adults aged 18 years and older who ...        47.1   \n",
       "16626  Percent of adults aged 18 years and older who ...        46.8   \n",
       "29607  Percent of adults aged 18 years and older who ...        46.4   \n",
       "2328   Percent of adults aged 18 years and older who ...        46.3   \n",
       "7544   Percent of adults aged 18 years and older who ...        46.3   \n",
       "15140  Percent of adults aged 18 years and older who ...        46.2   \n",
       "11386  Percent of adults aged 18 years and older who ...        46.2   \n",
       "9117   Percent of adults aged 18 years and older who ...        45.8   \n",
       "\n",
       "       Data_Value_Alt  Low_Confidence_Limit  High_Confidence_Limit   ...  \\\n",
       "12713            48.2                  44.0                    52.3  ...   \n",
       "3308             47.5                  42.7                    52.5  ...   \n",
       "26018            47.1                  43.2                    51.1  ...   \n",
       "16626            46.8                  42.2                    51.4  ...   \n",
       "29607            46.4                  42.6                    50.2  ...   \n",
       "2328             46.3                  43.0                    49.6  ...   \n",
       "7544             46.3                  42.4                    50.4  ...   \n",
       "15140            46.2                  42.4                    50.0  ...   \n",
       "11386            46.2                  41.5                    51.1  ...   \n",
       "9117             45.8                  41.6                    50.1  ...   \n",
       "\n",
       "           Age Education Gender Race/Ethnicity  \\\n",
       "12713  45 - 54       NaN    NaN            NaN   \n",
       "3308   35 - 44       NaN    NaN            NaN   \n",
       "26018  45 - 54       NaN    NaN            NaN   \n",
       "16626  45 - 54       NaN    NaN            NaN   \n",
       "29607  45 - 54       NaN    NaN            NaN   \n",
       "2328   45 - 54       NaN    NaN            NaN   \n",
       "7544   45 - 54       NaN    NaN            NaN   \n",
       "15140  45 - 54       NaN    NaN            NaN   \n",
       "11386  35 - 44       NaN    NaN            NaN   \n",
       "9117   45 - 54       NaN    NaN            NaN   \n",
       "\n",
       "                                  GeoLocation QuestionID LocationID  \\\n",
       "12713   38.66551020200046, -80.71264013499967       Q036         54   \n",
       "3308              32.745510099, -89.538030825       Q036         28   \n",
       "26018             32.840571122, -86.631860762       Q036          1   \n",
       "16626             31.312660644, -92.445680071       Q036         22   \n",
       "29607             38.665510202, -80.712640135       Q036         54   \n",
       "2328              38.665510202, -80.712640135       Q036         54   \n",
       "7544   32.745510099000455, -89.53803082499968       Q036         28   \n",
       "15140             32.745510099, -89.538030825       Q036         28   \n",
       "11386   38.66551020200046, -80.71264013499967       Q036         54   \n",
       "9117    31.31266064400046, -92.44568007099969       Q036         22   \n",
       "\n",
       "      Stratification1                 Lat                 Long  \n",
       "12713         45 - 54   38.66551020200046   -80.71264013499967  \n",
       "3308          35 - 44        32.745510099        -89.538030825  \n",
       "26018         45 - 54        32.840571122        -86.631860762  \n",
       "16626         45 - 54        31.312660644        -92.445680071  \n",
       "29607         45 - 54        38.665510202        -80.712640135  \n",
       "2328          45 - 54        38.665510202        -80.712640135  \n",
       "7544          45 - 54  32.745510099000455   -89.53803082499968  \n",
       "15140         45 - 54        32.745510099        -89.538030825  \n",
       "11386         35 - 44   38.66551020200046   -80.71264013499967  \n",
       "9117          45 - 54   31.31266064400046   -92.44568007099969  \n",
       "\n",
       "[10 rows x 22 columns]"
      ]
     },
     "execution_count": 35,
     "metadata": {},
     "output_type": "execute_result"
    }
   ],
   "source": [
    "Top10 = GenX_Weight_df.sort_values('Data_Value', ascending = False).head(10)\n",
    "Top10"
   ]
  },
  {
   "cell_type": "code",
   "execution_count": 36,
   "metadata": {},
   "outputs": [],
   "source": [
    "# Store 'Lat' and 'Lng' into  locations \n",
    "locations = Top10[[\"Lat\", \"Long\"]].astype(float)\n",
    "\n",
    "\n",
    "# Convert Obesity Rate to float and store\n",
    "obesity_rate = Top10[\"Data_Value\"].astype(float)"
   ]
  },
  {
   "cell_type": "code",
   "execution_count": 37,
   "metadata": {},
   "outputs": [
    {
     "data": {
      "application/vnd.jupyter.widget-view+json": {
       "model_id": "8e81165121f54806ba8aae1c5d67a8cf",
       "version_major": 2,
       "version_minor": 0
      },
      "text/plain": [
       "Figure(layout=FigureLayout(height='420px'))"
      ]
     },
     "metadata": {},
     "output_type": "display_data"
    }
   ],
   "source": [
    "# Create a GenX Heatmap layer\n",
    "fig = gmaps.figure()\n",
    "\n",
    "GenX_heat_layer = gmaps.heatmap_layer(locations, weights=obesity_rate, \n",
    "                                 dissipating=False, max_intensity=100,\n",
    "                                 point_radius = 1)\n",
    "\n",
    "fig.add_layer(GenX_heat_layer)\n",
    "\n",
    "fig"
   ]
  },
  {
   "cell_type": "code",
   "execution_count": 38,
   "metadata": {},
   "outputs": [],
   "source": [
    "Top10_GenM = GenM_Weight_df.sort_values('Data_Value', ascending = False).head(10)"
   ]
  },
  {
   "cell_type": "code",
   "execution_count": 39,
   "metadata": {},
   "outputs": [],
   "source": [
    "# Convert activity rate to list\n",
    "GenM_Obesity_rate = Top10_GenM[\"Data_Value\"].tolist()"
   ]
  },
  {
   "cell_type": "code",
   "execution_count": 40,
   "metadata": {},
   "outputs": [
    {
     "data": {
      "application/vnd.jupyter.widget-view+json": {
       "model_id": "33cf925068db4ab090702e7efbd6ac6b",
       "version_major": 2,
       "version_minor": 0
      },
      "text/plain": [
       "Figure(layout=FigureLayout(height='420px'))"
      ]
     },
     "metadata": {},
     "output_type": "display_data"
    }
   ],
   "source": [
    "# Create a GenM Heatmap layer\n",
    "fig = gmaps.figure()\n",
    "\n",
    "GenM_heat_layer = gmaps.heatmap_layer(locations, weights=obesity_rate, \n",
    "                                 dissipating=False, max_intensity=100,\n",
    "                                 point_radius = 1)\n",
    "\n",
    "fig.add_layer(GenM_heat_layer)\n",
    "\n",
    "fig"
   ]
  },
  {
   "cell_type": "code",
   "execution_count": 41,
   "metadata": {},
   "outputs": [
    {
     "data": {
      "application/vnd.jupyter.widget-view+json": {
       "model_id": "edd939e8bcbb4cc7975624c1875aa84d",
       "version_major": 2,
       "version_minor": 0
      },
      "text/plain": [
       "Figure(layout=FigureLayout(height='420px'))"
      ]
     },
     "metadata": {},
     "output_type": "display_data"
    }
   ],
   "source": [
    "fig = gmaps.figure()\n",
    "\n",
    "fig.add_layer(GenX_heat_layer)\n",
    "fig.add_layer(GenM_heat_layer)\n",
    "\n",
    "fig"
   ]
  },
  {
   "cell_type": "code",
   "execution_count": 42,
   "metadata": {},
   "outputs": [],
   "source": [
    "def gendata(loc=0):\n",
    "    GenX = GenX_Weight_df[\"Data_Value\"]\n",
    "    GenM = GenM_Weight_df[\"Data_Value\"]\n",
    "\n",
    "    # Scatter Plot of Data\n",
    "    plt.subplot(2, 1, 1)\n",
    "    plt.scatter(range(len(GenX)), GenX, label=\"GenX\")\n",
    "    plt.scatter(range(len(GenM)), GenM, label=\"GenM\")\n",
    "    plt.legend()\n",
    "\n",
    "    # Histogram Plot of Data\n",
    "    plt.subplot(2, 1, 2)\n",
    "    plt.hist(GenX, 20, density=True, alpha=0.7, label=\"GenX\")\n",
    "    plt.hist(GenM, 20, density=True, alpha=0.7, label=\"GenM\")\n",
    "    plt.axvline(GenX.mean(), color='k', linestyle='dashed', linewidth=1)\n",
    "    plt.axvline(GenM.mean(), color='k', linestyle='dashed', linewidth=1)\n",
    "    plt.legend()  \n",
    "    \n",
    "    return GenX, GenM"
   ]
  },
  {
   "cell_type": "code",
   "execution_count": 43,
   "metadata": {},
   "outputs": [
    {
     "name": "stderr",
     "output_type": "stream",
     "text": [
      "C:\\Users\\Taylor\\anaconda3\\envs\\PythonData\\lib\\site-packages\\ipykernel_launcher.py:7: UserWarning: Boolean Series key will be reindexed to match DataFrame index.\n",
      "  import sys\n"
     ]
    },
    {
     "data": {
      "text/plain": [
       "Year\n",
       "2011    20.802941\n",
       "2012    21.004902\n",
       "2013    21.469608\n",
       "2014    22.143137\n",
       "2015    22.252941\n",
       "Name: Data_Value, dtype: float64"
      ]
     },
     "execution_count": 43,
     "metadata": {},
     "output_type": "execute_result"
    }
   ],
   "source": [
    "#Making Acitivity and Nutrition Dataframes for Line Graphs\n",
    "#No Activity\n",
    "ActivityGenM_df = GenM_Data[(GenM_Data[\"Question\"] == \"Percent of adults who engage in no leisure-time physical activity\")]\n",
    "ActivityGenX_df = GenX_Data[(GenX_Data[\"Question\"] == \"Percent of adults who engage in no leisure-time physical activity\")]\n",
    "#Fruits and Veggies\n",
    "NutritionGenM_df = GenM_Data[(GenM_Data[\"Question\"] == \"Percent of adults who report consuming vegetables less than one time daily\") | (GenM_Data[\"Question\"] == \"Percent of adults who report consuming fruit less than one time daily\")]\n",
    "NutritionGenX_df = GenX_Data[(GenX_Data[\"Question\"] == \"Percent of adults who report consuming fruit less than one time daily\") | (GenM_Data[\"Question\"] == \"Percent of adults who report consuming vegetables less than one time daily\")]\n",
    "#Obesity\n",
    "ObesityGenM_df = GenM_Data[(GenM_Data[\"Question\"] == \"Percent of adults aged 18 years and older who have obesity\")]\n",
    "ObesityGenX_df = GenX_Data[(GenX_Data[\"Question\"] == \"Percent of adults aged 18 years and older who have obesity\")]\n",
    "\n",
    "#Achieve Means by Years to plot using groupby\n",
    "ActivityYearsGenM_df =  ActivityGenM_df.groupby(\"Year\")[\"Data_Value\"].mean()\n",
    "ActivityYearsGenX_df =  ActivityGenX_df.groupby(\"Year\")[\"Data_Value\"].mean()\n",
    "NutritionYearsGenM_df = NutritionGenM_df.groupby(\"Year\")[\"Data_Value\"].mean()\n",
    "NutritionYearsGenX_df = NutritionGenX_df.groupby(\"Year\")[\"Data_Value\"].mean()\n",
    "ObesityYearsGenM_df =  ObesityGenM_df.groupby(\"Year\")[\"Data_Value\"].mean()\n",
    "ObesityYearsGenX_df =  ObesityGenX_df.groupby(\"Year\")[\"Data_Value\"].mean()\n",
    "ObesityYearsGenM_df.head()"
   ]
  },
  {
   "cell_type": "code",
   "execution_count": 44,
   "metadata": {},
   "outputs": [
    {
     "data": {
      "image/png": "[encoded data removed]",
      "text/plain": [
       "<Figure size 432x288 with 1 Axes>"
      ]
     },
     "metadata": {
      "needs_background": "light"
     },
     "output_type": "display_data"
    }
   ],
   "source": [
    "#ACTIVITY LINE GRAPHS -Dar\n",
    "# Set x axis to numerical value for month\n",
    "x_axis = \"2011\",\"2012\",\"2013\",\"2014\",\"2015\"\n",
    "\n",
    "\n",
    "\n",
    "# Avearge GenX not exercising each year\n",
    "activityGenX = [25.4, 22.1, 26.2, 22.7, 26.6]\n",
    "# Avearge GenM not exercising each year\n",
    "activityGenM = [19.4, 15.9, 19.8, 16.9, 19.7]\n",
    "# Avearge GenX obese each year\n",
    "obesityGenX = [31.6, 32.1, 33.1, 33.5, 33.8]\n",
    "# Avearge GenM obese each year\n",
    "obesityGenM = [20.8, 21, 21.5, 22.2, 22.4]\n",
    "\n",
    "# Create a handle for each plot\n",
    "genX, = plt.plot(x_axis, activityGenX, marker=\"+\",color=\"blue\", linewidth=1, label=\"Generation X\")\n",
    "genM, = plt.plot(x_axis, activityGenM, marker=\"s\", color=\"Red\", linewidth=1, label=\"Generation M\")\n",
    "genXo, = plt.plot(x_axis, obesityGenX, marker=\"*\",color=\"blue\", linewidth=1, label=\"Gen X Obesity\")\n",
    "genMo, = plt.plot(x_axis, obesityGenM, marker=\"o\", color=\"Red\", linewidth=1, label=\"Gen M Obesity\")\n",
    "\n",
    "# Set our legend to where the chart thinks is best\n",
    "plt.legend(handles=[genX, genM, genXo, genMo], loc=\"best\")\n",
    "\n",
    "# Create labels for the X and Y axis\n",
    "plt.xlabel(\"Years\")\n",
    "plt.ylabel(\"Percentage\")\n",
    "plt.title('Self-Reported Inactivity vs Obesity Annually By Generation')\n",
    "\n",
    "\n",
    "# Save and display the chart\n",
    "# Save and display the chart\n",
    "plt.savefig(\"Resources/NoActivityLineChart.png\")\n",
    "plt.show()"
   ]
  },
  {
   "cell_type": "code",
   "execution_count": 45,
   "metadata": {},
   "outputs": [
    {
     "data": {
      "text/plain": [
       "Year\n",
       "2011    29.197059\n",
       "2013    29.335294\n",
       "2015    29.384314\n",
       "2017    28.387255\n",
       "Name: Data_Value, dtype: float64"
      ]
     },
     "execution_count": 45,
     "metadata": {},
     "output_type": "execute_result"
    }
   ],
   "source": [
    "#Heavy Activity Dataframe - Dar\n",
    "\n",
    "HeavyActivityGenM_df = GenM_Data[(GenM_Data[\"Question\"] == \"Percent of adults who achieve at least 300 minutes a week of moderate-intensity aerobic physical activity or 150 minutes a week of vigorous-intensity aerobic activity (or an equivalent combination)\")]\n",
    "HeavyActivityGenX_df = GenX_Data[(GenX_Data[\"Question\"] == \"Percent of adults who achieve at least 300 minutes a week of moderate-intensity aerobic physical activity or 150 minutes a week of vigorous-intensity aerobic activity (or an equivalent combination)\")]\n",
    "\n",
    "#Achieve Means by Years to plot using groupby\n",
    "HeavyActivityYearsGenM_df =  HeavyActivityGenM_df.groupby(\"Year\")[\"Data_Value\"].mean()\n",
    "HeavyActivityYearsGenX_df =  HeavyActivityGenX_df.groupby(\"Year\")[\"Data_Value\"].mean()\n",
    "\n",
    "HeavyActivityYearsGenX_df.head()"
   ]
  },
  {
   "cell_type": "code",
   "execution_count": 46,
   "metadata": {},
   "outputs": [
    {
     "data": {
      "image/png": "[encoded data removed]",
      "text/plain": [
       "<Figure size 432x288 with 1 Axes>"
      ]
     },
     "metadata": {
      "needs_background": "light"
     },
     "output_type": "display_data"
    }
   ],
   "source": [
    "#ACTIVITY LINE GRAPHS- Heavy Activity -Dar\n",
    "# Set x axis to numerical value for month\n",
    "x_axis = \"2011\",\"2013\",\"2015\"\n",
    "\n",
    "\n",
    "\n",
    "# Avearge GenX not exercising each year\n",
    "activityGenX = [29.2, 29.3, 29.2]\n",
    "# Avearge GenM not exercising each year\n",
    "activityGenM = [31, 30.4, 29.9]\n",
    "# Avearge GenX obese each year\n",
    "obesityGenX = [31.6, 33.1, 33.8]\n",
    "# Avearge GenM obese each year\n",
    "obesityGenM = [20.8, 21.5, 22.4]\n",
    "\n",
    "# Create a handle for each plot\n",
    "genX, = plt.plot(x_axis, activityGenX, marker=\"+\",color=\"blue\", linewidth=1, label=\"Generation X\")\n",
    "genM, = plt.plot(x_axis, activityGenM, marker=\"s\", color=\"Red\", linewidth=1, label=\"Generation M\")\n",
    "genXo, = plt.plot(x_axis, obesityGenX, marker=\"*\",color=\"blue\", linewidth=1, label=\"Gen X Obesity\")\n",
    "genMo, = plt.plot(x_axis, obesityGenM, marker=\"o\", color=\"Red\", linewidth=1, label=\"Gen M Obesity\")\n",
    "\n",
    "# Set our legend to where the chart thinks is best\n",
    "plt.legend(handles=[genX, genM, genXo, genMo], loc=\"best\")\n",
    "\n",
    "# Create labels for the X and Y axis\n",
    "plt.xlabel(\"Years\")\n",
    "plt.ylabel(\"Percentage\")\n",
    "plt.title('Self-Reported Heavy Activity vs Obesity Annually By Generation')\n",
    "\n",
    "\n",
    "# Save and display the chart\n",
    "# Save and display the chart\n",
    "plt.savefig(\"Resources/HeavyActivityLineChart.png\")\n",
    "plt.show()"
   ]
  },
  {
   "cell_type": "code",
   "execution_count": 47,
   "metadata": {},
   "outputs": [
    {
     "data": {
      "image/png": "[encoded data removed]",
      "text/plain": [
       "<Figure size 432x288 with 1 Axes>"
      ]
     },
     "metadata": {
      "needs_background": "light"
     },
     "output_type": "display_data"
    }
   ],
   "source": [
    "#NUTRITION LINE GRAPHS -Dar\n",
    "# Set x axis to numerical value for month\n",
    "x_axis = np.arange(1,6,1)\n",
    "x_axis\n",
    "\n",
    "# Avearge GenX not exercising each year\n",
    "nutritionGenX = [39, 42, 51, 62, 72]\n",
    "# Avearge GenM not exercising each year\n",
    "nutritionGenM = [39, 42, 51, 62, 73]\n",
    "\n",
    "# Create a handle for each plot\n",
    "genX, = plt.plot(x_axis, nutritionGenX, marker=\"+\",color=\"blue\", linewidth=1, label=\"Generation X\")\n",
    "genM, = plt.plot(x_axis, nutritionGenM, marker=\"s\", color=\"Red\", linewidth=1, label=\"Generation M\")\n",
    "\n",
    "# Set our legend to where the chart thinks is best\n",
    "plt.legend(handles=[genX, genM], loc=\"best\")\n",
    "\n",
    "# Create labels for the X and Y axis\n",
    "plt.xlabel(\"Years\")\n",
    "plt.ylabel(\"Percentage\")\n",
    "\n",
    "# Save and display the chart\n",
    "\n",
    "plt.show()\n",
    "\n",
    "#NUTRITION LINE GRAPHS WILL NOT WORK AS THERE IS ONLY ONE YEAR (2017) REPRESENTED##"
   ]
  },
  {
   "cell_type": "code",
   "execution_count": null,
   "metadata": {},
   "outputs": [],
   "source": [
    "#Hooray We Finished Project 1!"
   ]
  }
 ],
 "metadata": {
  "kernelspec": {
   "display_name": "Python 3",
   "language": "python",
   "name": "python3"
  },
  "language_info": {
   "codemirror_mode": {
    "name": "ipython",
    "version": 3
   },
   "file_extension": ".py",
   "mimetype": "text/x-python",
   "name": "python",
   "nbconvert_exporter": "python",
   "pygments_lexer": "ipython3",
   "version": "3.7.7"
  }
 },
 "nbformat": 4,
 "nbformat_minor": 4
}
